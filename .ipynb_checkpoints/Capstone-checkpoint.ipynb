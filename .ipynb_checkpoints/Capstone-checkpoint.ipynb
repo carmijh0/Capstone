{
 "cells": [
  {
   "cell_type": "code",
   "execution_count": 1,
   "metadata": {},
   "outputs": [],
   "source": [
    "import pandas as pd\n",
    "import numpy as np\n",
    "import matplotlib.pyplot as plt\n",
    "%matplotlib inline\n",
    "from scipy.stats import stats\n",
    "import seaborn as sns; sns.set()\n",
    "import warnings\n",
    "warnings.filterwarnings(\"ignore\")\n",
    "from datetime import datetime\n",
    "\n",
    "out_p = pd.read_csv('../data/data/Medicare_Charge_Outpatient_APC28_CY2015_Provider.csv')\n",
    "in_p= pd.read_csv('../data/data/Medicare_Provider_Charge_Inpatient_DRGALL_FY2015.csv')"
   ]
  },
  {
   "cell_type": "markdown",
   "metadata": {},
   "source": [
    "## _2015 In Patient Cost & Star Ratings_\n",
    "\n",
    "### _Project Template_\n",
    "> ####  1.  EDA for Medicare in and out patient utilization provider data from 2015.\n",
    "> ####  2.  Create methodolgy to recreate CMS provider star ratings system to correct discrepancies using hydrus and rstarrating.\n",
    "> ####  3.  Build interface with power BI, comparing costs with overral hospital ratings within a market. "
   ]
  },
  {
   "cell_type": "markdown",
   "metadata": {},
   "source": [
    "##### _Discrepancies found in CMS's current star rating methodology_\n",
    "> #####  1.  They compare critical access to acute care hospitals when they have vastly different patient populations and volume of reporting measures. Critical access hospitals reported just 27 of the 57 total measures while Acute care Hospitals on average reported 50 + of the 57 total, putting them at a sevre disadvantage (more oppurtunities to recevie a lower rating in one category and disrupt the total start-level rating). See http://www.modernhealthcare.com/article/20180314/NEWS/180319952\n",
    "> #####  2.  They initially used non-adaptive latent variable modeling which changes the weights every time the model is run due to the sas pack use of Gaussian quadrature to approximate these integrals, resulting in a switch to adaptive latent variable modeling in December of 2017 and prior. Further the k means clustering is converged (originally only ran one iteration and failed to converge). See http://www.modernhealthcare.com/article/20180615/TRANSFORMATION01/180619933\n",
    "> #####  3.  CMS disproportionately weighed the PSI 90 aggregate measure to the tune of being able to remove all 7/8 of the other metrics and only changing 4% of the hospitals star ratings... can I replicate this to fix this problem? "
   ]
  },
  {
   "cell_type": "markdown",
   "metadata": {},
   "source": [
    "##### _Ideas to approach these problems? Utilizing both the Hydrus(python) and rstarrating(R) packages_\n",
    "> #####  1.  Separate the acute care and critical access hospitals from each other and run the k means and LVM models on the two classes separately? How would this be presented in the final presentation?  \n",
    "> #####  2.  Use adaptive LVM by avoiding quadrature altogether and instead calculating exact integrals. Make sure the k means converges. \n",
    "> #####  3.  Rebalance the measure loading to avoid the over weighing of PSI 90 within the safety group. "
   ]
  },
  {
   "cell_type": "code",
   "execution_count": 2,
   "metadata": {},
   "outputs": [
    {
     "data": {
      "text/html": [
       "<div>\n",
       "<style>\n",
       "    .dataframe thead tr:only-child th {\n",
       "        text-align: right;\n",
       "    }\n",
       "\n",
       "    .dataframe thead th {\n",
       "        text-align: left;\n",
       "    }\n",
       "\n",
       "    .dataframe tbody tr th {\n",
       "        vertical-align: top;\n",
       "    }\n",
       "</style>\n",
       "<table border=\"1\" class=\"dataframe\">\n",
       "  <thead>\n",
       "    <tr style=\"text-align: right;\">\n",
       "      <th></th>\n",
       "      <th>DRG Definition</th>\n",
       "      <th>Provider Id</th>\n",
       "      <th>Provider Name</th>\n",
       "      <th>Provider Street Address</th>\n",
       "      <th>Provider City</th>\n",
       "      <th>Provider State</th>\n",
       "      <th>Provider Zip Code</th>\n",
       "      <th>Hospital Referral Region (HRR) Description</th>\n",
       "      <th>Total Discharges</th>\n",
       "      <th>Average Covered Charges</th>\n",
       "      <th>Average Total Payments</th>\n",
       "      <th>Average Medicare Payments</th>\n",
       "    </tr>\n",
       "  </thead>\n",
       "  <tbody>\n",
       "    <tr>\n",
       "      <th>0</th>\n",
       "      <td>001 - HEART TRANSPLANT OR IMPLANT OF HEART ASS...</td>\n",
       "      <td>10033</td>\n",
       "      <td>UNIVERSITY OF ALABAMA HOSPITAL</td>\n",
       "      <td>619 SOUTH 19TH STREET</td>\n",
       "      <td>BIRMINGHAM</td>\n",
       "      <td>AL</td>\n",
       "      <td>35233</td>\n",
       "      <td>AL - Birmingham</td>\n",
       "      <td>11</td>\n",
       "      <td>1014783.45</td>\n",
       "      <td>171081.18</td>\n",
       "      <td>141193.91</td>\n",
       "    </tr>\n",
       "    <tr>\n",
       "      <th>1</th>\n",
       "      <td>001 - HEART TRANSPLANT OR IMPLANT OF HEART ASS...</td>\n",
       "      <td>30103</td>\n",
       "      <td>MAYO CLINIC HOSPITAL</td>\n",
       "      <td>5777 EAST MAYO BOULEVARD</td>\n",
       "      <td>PHOENIX</td>\n",
       "      <td>AZ</td>\n",
       "      <td>85054</td>\n",
       "      <td>AZ - Phoenix</td>\n",
       "      <td>28</td>\n",
       "      <td>382051.00</td>\n",
       "      <td>194081.39</td>\n",
       "      <td>167511.96</td>\n",
       "    </tr>\n",
       "    <tr>\n",
       "      <th>2</th>\n",
       "      <td>001 - HEART TRANSPLANT OR IMPLANT OF HEART ASS...</td>\n",
       "      <td>50025</td>\n",
       "      <td>UNIVERSITY OF CALIFORNIA SAN DIEGO MEDICAL CENTER</td>\n",
       "      <td>200 WEST ARBOR DRIVE</td>\n",
       "      <td>SAN DIEGO</td>\n",
       "      <td>CA</td>\n",
       "      <td>92103</td>\n",
       "      <td>CA - San Diego</td>\n",
       "      <td>21</td>\n",
       "      <td>971881.48</td>\n",
       "      <td>324050.71</td>\n",
       "      <td>294419.62</td>\n",
       "    </tr>\n",
       "    <tr>\n",
       "      <th>3</th>\n",
       "      <td>001 - HEART TRANSPLANT OR IMPLANT OF HEART ASS...</td>\n",
       "      <td>50100</td>\n",
       "      <td>SHARP MEMORIAL HOSPITAL</td>\n",
       "      <td>7901 FROST ST</td>\n",
       "      <td>SAN DIEGO</td>\n",
       "      <td>CA</td>\n",
       "      <td>92123</td>\n",
       "      <td>CA - San Diego</td>\n",
       "      <td>18</td>\n",
       "      <td>1517857.61</td>\n",
       "      <td>257177.33</td>\n",
       "      <td>233532.83</td>\n",
       "    </tr>\n",
       "    <tr>\n",
       "      <th>4</th>\n",
       "      <td>001 - HEART TRANSPLANT OR IMPLANT OF HEART ASS...</td>\n",
       "      <td>50108</td>\n",
       "      <td>SUTTER MEDICAL CENTER, SACRAMENTO</td>\n",
       "      <td>2825 CAPITOL AVENUE</td>\n",
       "      <td>SACRAMENTO</td>\n",
       "      <td>CA</td>\n",
       "      <td>95816</td>\n",
       "      <td>CA - Sacramento</td>\n",
       "      <td>17</td>\n",
       "      <td>1470341.06</td>\n",
       "      <td>346150.12</td>\n",
       "      <td>338472.00</td>\n",
       "    </tr>\n",
       "  </tbody>\n",
       "</table>\n",
       "</div>"
      ],
      "text/plain": [
       "                                      DRG Definition  Provider Id  \\\n",
       "0  001 - HEART TRANSPLANT OR IMPLANT OF HEART ASS...        10033   \n",
       "1  001 - HEART TRANSPLANT OR IMPLANT OF HEART ASS...        30103   \n",
       "2  001 - HEART TRANSPLANT OR IMPLANT OF HEART ASS...        50025   \n",
       "3  001 - HEART TRANSPLANT OR IMPLANT OF HEART ASS...        50100   \n",
       "4  001 - HEART TRANSPLANT OR IMPLANT OF HEART ASS...        50108   \n",
       "\n",
       "                                       Provider Name  \\\n",
       "0                     UNIVERSITY OF ALABAMA HOSPITAL   \n",
       "1                               MAYO CLINIC HOSPITAL   \n",
       "2  UNIVERSITY OF CALIFORNIA SAN DIEGO MEDICAL CENTER   \n",
       "3                            SHARP MEMORIAL HOSPITAL   \n",
       "4                  SUTTER MEDICAL CENTER, SACRAMENTO   \n",
       "\n",
       "    Provider Street Address Provider City Provider State  Provider Zip Code  \\\n",
       "0     619 SOUTH 19TH STREET    BIRMINGHAM             AL              35233   \n",
       "1  5777 EAST MAYO BOULEVARD       PHOENIX             AZ              85054   \n",
       "2      200 WEST ARBOR DRIVE     SAN DIEGO             CA              92103   \n",
       "3             7901 FROST ST     SAN DIEGO             CA              92123   \n",
       "4       2825 CAPITOL AVENUE    SACRAMENTO             CA              95816   \n",
       "\n",
       "  Hospital Referral Region (HRR) Description  Total Discharges  \\\n",
       "0                            AL - Birmingham                11   \n",
       "1                               AZ - Phoenix                28   \n",
       "2                             CA - San Diego                21   \n",
       "3                             CA - San Diego                18   \n",
       "4                            CA - Sacramento                17   \n",
       "\n",
       "   Average Covered Charges  Average Total Payments  Average Medicare Payments  \n",
       "0               1014783.45               171081.18                  141193.91  \n",
       "1                382051.00               194081.39                  167511.96  \n",
       "2                971881.48               324050.71                  294419.62  \n",
       "3               1517857.61               257177.33                  233532.83  \n",
       "4               1470341.06               346150.12                  338472.00  "
      ]
     },
     "execution_count": 2,
     "metadata": {},
     "output_type": "execute_result"
    }
   ],
   "source": [
    "in_p.head()"
   ]
  },
  {
   "cell_type": "code",
   "execution_count": 3,
   "metadata": {},
   "outputs": [
    {
     "name": "stdout",
     "output_type": "stream",
     "text": [
      "DRG Definition                                0\n",
      "Provider Id                                   0\n",
      "Provider Name                                 0\n",
      "Provider Street Address                       0\n",
      "Provider City                                 0\n",
      "Provider State                                0\n",
      "Provider Zip Code                             0\n",
      "Hospital Referral Region (HRR) Description    0\n",
      "Total Discharges                              0\n",
      "Average Covered Charges                       0\n",
      "Average Total Payments                        0\n",
      "Average Medicare Payments                     0\n",
      "dtype: int64\n",
      "APC                          0\n",
      "Provider_ID                  0\n",
      "Provider_Name                0\n",
      "Provider_Street_Address      0\n",
      "Provider_City                0\n",
      "Provider_State               0\n",
      "Provider_Zip_Code            0\n",
      "Hospital_Referral_Region     0\n",
      "Outpatient_Services          0\n",
      "Average_Submitted_Charges    0\n",
      "Average_Total_Payments       0\n",
      "dtype: int64\n"
     ]
    }
   ],
   "source": [
    "#Checking for missingness. All cols are populated for both in and out patient. \n",
    "print(in_p.isnull().sum())\n",
    "print(out_p.isnull().sum())"
   ]
  },
  {
   "cell_type": "markdown",
   "metadata": {},
   "source": [
    "### _What are the total costs, cost per unit (discharge), & difference between what charges were submitted and eventually paid out from Medicare for each APC/DRG?_"
   ]
  },
  {
   "cell_type": "markdown",
   "metadata": {},
   "source": [
    "#### _Outpatient_"
   ]
  },
  {
   "cell_type": "code",
   "execution_count": 4,
   "metadata": {},
   "outputs": [
    {
     "data": {
      "text/plain": [
       "Index(['APC', 'Provider_ID', 'Provider_Name', 'Provider_Street_Address',\n",
       "       'Provider_City', 'Provider_State', 'Provider_Zip_Code',\n",
       "       'Hospital_Referral_Region', 'Outpatient_Services',\n",
       "       'Average_Submitted_Charges', 'Average_Total_Payments'],\n",
       "      dtype='object')"
      ]
     },
     "execution_count": 4,
     "metadata": {},
     "output_type": "execute_result"
    }
   ],
   "source": [
    "out_p.columns"
   ]
  },
  {
   "cell_type": "code",
   "execution_count": 5,
   "metadata": {},
   "outputs": [],
   "source": [
    "out_p['Average_Charge_Paid_Difference'] = (out_p['Average_Submitted_Charges'] - out_p['Average_Total_Payments'])\n",
    "out_p['Percentage_Covered_by_Medicare'] = (out_p['Average_Total_Payments'] / out_p['Average_Submitted_Charges'])"
   ]
  },
  {
   "cell_type": "code",
   "execution_count": 6,
   "metadata": {},
   "outputs": [
    {
     "data": {
      "text/html": [
       "<div>\n",
       "<style>\n",
       "    .dataframe thead tr:only-child th {\n",
       "        text-align: right;\n",
       "    }\n",
       "\n",
       "    .dataframe thead th {\n",
       "        text-align: left;\n",
       "    }\n",
       "\n",
       "    .dataframe tbody tr th {\n",
       "        vertical-align: top;\n",
       "    }\n",
       "</style>\n",
       "<table border=\"1\" class=\"dataframe\">\n",
       "  <thead>\n",
       "    <tr style=\"text-align: right;\">\n",
       "      <th></th>\n",
       "      <th>APC</th>\n",
       "      <th>Provider_ID</th>\n",
       "      <th>Provider_Name</th>\n",
       "      <th>Provider_Street_Address</th>\n",
       "      <th>Provider_City</th>\n",
       "      <th>Provider_State</th>\n",
       "      <th>Provider_Zip_Code</th>\n",
       "      <th>Hospital_Referral_Region</th>\n",
       "      <th>Outpatient_Services</th>\n",
       "      <th>Average_Submitted_Charges</th>\n",
       "      <th>Average_Total_Payments</th>\n",
       "      <th>Average_Charge_Paid_Difference</th>\n",
       "      <th>Percentage_Covered_by_Medicare</th>\n",
       "    </tr>\n",
       "  </thead>\n",
       "  <tbody>\n",
       "    <tr>\n",
       "      <th>0</th>\n",
       "      <td>0012 - Level I Debridement &amp; Destruction</td>\n",
       "      <td>10001</td>\n",
       "      <td>Southeast Alabama Medical Center</td>\n",
       "      <td>1108 Ross Clark Circle</td>\n",
       "      <td>Dothan</td>\n",
       "      <td>AL</td>\n",
       "      <td>36301</td>\n",
       "      <td>AL - Dothan</td>\n",
       "      <td>48</td>\n",
       "      <td>456.165625</td>\n",
       "      <td>52.018333</td>\n",
       "      <td>404.147292</td>\n",
       "      <td>0.114034</td>\n",
       "    </tr>\n",
       "    <tr>\n",
       "      <th>1</th>\n",
       "      <td>0012 - Level I Debridement &amp; Destruction</td>\n",
       "      <td>10005</td>\n",
       "      <td>Marshall Medical Center South</td>\n",
       "      <td>2505 U S Highway 431 North</td>\n",
       "      <td>Boaz</td>\n",
       "      <td>AL</td>\n",
       "      <td>35957</td>\n",
       "      <td>AL - Birmingham</td>\n",
       "      <td>56</td>\n",
       "      <td>281.646429</td>\n",
       "      <td>16.993036</td>\n",
       "      <td>264.653393</td>\n",
       "      <td>0.060335</td>\n",
       "    </tr>\n",
       "    <tr>\n",
       "      <th>2</th>\n",
       "      <td>0012 - Level I Debridement &amp; Destruction</td>\n",
       "      <td>10007</td>\n",
       "      <td>Mizell Memorial Hospital</td>\n",
       "      <td>702 N Main St</td>\n",
       "      <td>Opp</td>\n",
       "      <td>AL</td>\n",
       "      <td>36467</td>\n",
       "      <td>AL - Dothan</td>\n",
       "      <td>21</td>\n",
       "      <td>594.345238</td>\n",
       "      <td>78.740000</td>\n",
       "      <td>515.605238</td>\n",
       "      <td>0.132482</td>\n",
       "    </tr>\n",
       "  </tbody>\n",
       "</table>\n",
       "</div>"
      ],
      "text/plain": [
       "                                        APC  Provider_ID  \\\n",
       "0  0012 - Level I Debridement & Destruction        10001   \n",
       "1  0012 - Level I Debridement & Destruction        10005   \n",
       "2  0012 - Level I Debridement & Destruction        10007   \n",
       "\n",
       "                      Provider_Name     Provider_Street_Address Provider_City  \\\n",
       "0  Southeast Alabama Medical Center      1108 Ross Clark Circle        Dothan   \n",
       "1     Marshall Medical Center South  2505 U S Highway 431 North          Boaz   \n",
       "2          Mizell Memorial Hospital               702 N Main St           Opp   \n",
       "\n",
       "  Provider_State  Provider_Zip_Code Hospital_Referral_Region  \\\n",
       "0             AL              36301              AL - Dothan   \n",
       "1             AL              35957          AL - Birmingham   \n",
       "2             AL              36467              AL - Dothan   \n",
       "\n",
       "   Outpatient_Services  Average_Submitted_Charges  Average_Total_Payments  \\\n",
       "0                   48                 456.165625               52.018333   \n",
       "1                   56                 281.646429               16.993036   \n",
       "2                   21                 594.345238               78.740000   \n",
       "\n",
       "   Average_Charge_Paid_Difference  Percentage_Covered_by_Medicare  \n",
       "0                      404.147292                        0.114034  \n",
       "1                      264.653393                        0.060335  \n",
       "2                      515.605238                        0.132482  "
      ]
     },
     "execution_count": 6,
     "metadata": {},
     "output_type": "execute_result"
    }
   ],
   "source": [
    "out_p.head(3)"
   ]
  },
  {
   "cell_type": "code",
   "execution_count": 7,
   "metadata": {},
   "outputs": [],
   "source": [
    "out_p.to_csv('../data/outpatient_2015.csv', sep='\\t', encoding='utf-8')"
   ]
  },
  {
   "cell_type": "code",
   "execution_count": 8,
   "metadata": {},
   "outputs": [
    {
     "data": {
      "image/png": "[encoded data removed]",
      "text/plain": [
       "<matplotlib.figure.Figure at 0x1635b0f7358>"
      ]
     },
     "metadata": {},
     "output_type": "display_data"
    }
   ],
   "source": [
    "# Pairplot to look at a few features\n",
    "ax = sns.pairplot(out_p[['Average_Submitted_Charges', 'APC', 'Average_Charge_Paid_Difference']], \n",
    "             hue='APC', \n",
    "             size=4)"
   ]
  },
  {
   "cell_type": "code",
   "execution_count": 9,
   "metadata": {},
   "outputs": [
    {
     "data": {
      "text/plain": [
       "<matplotlib.axes._subplots.AxesSubplot at 0x163723bcc50>"
      ]
     },
     "execution_count": 9,
     "metadata": {},
     "output_type": "execute_result"
    },
    {
     "data": {
      "image/png": "[encoded data removed]",
      "text/plain": [
       "<matplotlib.figure.Figure at 0x163723ca278>"
      ]
     },
     "metadata": {},
     "output_type": "display_data"
    }
   ],
   "source": [
    "sns.distplot(out_p['Average_Submitted_Charges'], bins = 30, color = 'red')"
   ]
  },
  {
   "cell_type": "code",
   "execution_count": 10,
   "metadata": {},
   "outputs": [
    {
     "data": {
      "text/plain": [
       "<matplotlib.axes._subplots.AxesSubplot at 0x16371edfe10>"
      ]
     },
     "execution_count": 10,
     "metadata": {},
     "output_type": "execute_result"
    },
    {
     "data": {
      "image/png": "[encoded data removed]",
      "text/plain": [
       "<matplotlib.figure.Figure at 0x16371fec048>"
      ]
     },
     "metadata": {},
     "output_type": "display_data"
    }
   ],
   "source": [
    "sns.distplot(out_p['Average_Charge_Paid_Difference'], bins = 30, color = 'orange')"
   ]
  },
  {
   "cell_type": "code",
   "execution_count": 11,
   "metadata": {},
   "outputs": [
    {
     "data": {
      "text/plain": [
       "<seaborn.axisgrid.PairGrid at 0x16372927550>"
      ]
     },
     "execution_count": 11,
     "metadata": {},
     "output_type": "execute_result"
    },
    {
     "data": {
      "image/png": "[encoded data removed]",
      "text/plain": [
       "<matplotlib.figure.Figure at 0x16371a95588>"
      ]
     },
     "metadata": {},
     "output_type": "display_data"
    }
   ],
   "source": [
    "ax = sns.PairGrid(out_p[['Average_Submitted_Charges', 'APC', 'Average_Charge_Paid_Difference']], \n",
    "             hue='APC',\n",
    "             size = 4)\n",
    "ax.map_diag(plt.hist, bins = 30)\n",
    "ax.map_offdiag(plt.scatter, s=0.5)"
   ]
  },
  {
   "cell_type": "markdown",
   "metadata": {},
   "source": [
    "#### _Inpatient_ "
   ]
  },
  {
   "cell_type": "code",
   "execution_count": 12,
   "metadata": {},
   "outputs": [
    {
     "data": {
      "text/plain": [
       "Index(['DRG Definition', 'Provider Id', 'Provider Name',\n",
       "       'Provider Street Address', 'Provider City', 'Provider State',\n",
       "       'Provider Zip Code', 'Hospital Referral Region (HRR) Description',\n",
       "       'Total Discharges', 'Average Covered Charges', 'Average Total Payments',\n",
       "       'Average Medicare Payments'],\n",
       "      dtype='object')"
      ]
     },
     "execution_count": 12,
     "metadata": {},
     "output_type": "execute_result"
    }
   ],
   "source": [
    "in_p.columns"
   ]
  },
  {
   "cell_type": "code",
   "execution_count": 13,
   "metadata": {},
   "outputs": [],
   "source": [
    "in_p.columns = ['DRG', 'Provider_ID', 'Provider_Name', 'Provider_Address', 'Provider_City', 'Provider_State', 'Provider_Zip', 'Market', 'Total_Discharges', 'Average_Covered_Charges', 'Average_Total_Payments', 'Average_Medicare_Payments']"
   ]
  },
  {
   "cell_type": "code",
   "execution_count": 14,
   "metadata": {},
   "outputs": [],
   "source": [
    "in_p['Percentage_Covered_by_Medicare'] = (in_p['Average_Medicare_Payments'] / in_p['Average_Total_Payments'])\n",
    "in_p['Difference_Not_Covered'] = (in_p['Average_Total_Payments'] - in_p['Average_Medicare_Payments'])"
   ]
  },
  {
   "cell_type": "code",
   "execution_count": 15,
   "metadata": {},
   "outputs": [
    {
     "data": {
      "text/html": [
       "<div>\n",
       "<style>\n",
       "    .dataframe thead tr:only-child th {\n",
       "        text-align: right;\n",
       "    }\n",
       "\n",
       "    .dataframe thead th {\n",
       "        text-align: left;\n",
       "    }\n",
       "\n",
       "    .dataframe tbody tr th {\n",
       "        vertical-align: top;\n",
       "    }\n",
       "</style>\n",
       "<table border=\"1\" class=\"dataframe\">\n",
       "  <thead>\n",
       "    <tr style=\"text-align: right;\">\n",
       "      <th></th>\n",
       "      <th>DRG</th>\n",
       "      <th>Provider_ID</th>\n",
       "      <th>Provider_Name</th>\n",
       "      <th>Provider_Address</th>\n",
       "      <th>Provider_City</th>\n",
       "      <th>Provider_State</th>\n",
       "      <th>Provider_Zip</th>\n",
       "      <th>Market</th>\n",
       "      <th>Total_Discharges</th>\n",
       "      <th>Average_Covered_Charges</th>\n",
       "      <th>Average_Total_Payments</th>\n",
       "      <th>Average_Medicare_Payments</th>\n",
       "      <th>Percentage_Covered_by_Medicare</th>\n",
       "      <th>Difference_Not_Covered</th>\n",
       "    </tr>\n",
       "  </thead>\n",
       "  <tbody>\n",
       "    <tr>\n",
       "      <th>0</th>\n",
       "      <td>001 - HEART TRANSPLANT OR IMPLANT OF HEART ASS...</td>\n",
       "      <td>10033</td>\n",
       "      <td>UNIVERSITY OF ALABAMA HOSPITAL</td>\n",
       "      <td>619 SOUTH 19TH STREET</td>\n",
       "      <td>BIRMINGHAM</td>\n",
       "      <td>AL</td>\n",
       "      <td>35233</td>\n",
       "      <td>AL - Birmingham</td>\n",
       "      <td>11</td>\n",
       "      <td>1014783.45</td>\n",
       "      <td>171081.18</td>\n",
       "      <td>141193.91</td>\n",
       "      <td>0.825304</td>\n",
       "      <td>29887.27</td>\n",
       "    </tr>\n",
       "    <tr>\n",
       "      <th>1</th>\n",
       "      <td>001 - HEART TRANSPLANT OR IMPLANT OF HEART ASS...</td>\n",
       "      <td>30103</td>\n",
       "      <td>MAYO CLINIC HOSPITAL</td>\n",
       "      <td>5777 EAST MAYO BOULEVARD</td>\n",
       "      <td>PHOENIX</td>\n",
       "      <td>AZ</td>\n",
       "      <td>85054</td>\n",
       "      <td>AZ - Phoenix</td>\n",
       "      <td>28</td>\n",
       "      <td>382051.00</td>\n",
       "      <td>194081.39</td>\n",
       "      <td>167511.96</td>\n",
       "      <td>0.863102</td>\n",
       "      <td>26569.43</td>\n",
       "    </tr>\n",
       "    <tr>\n",
       "      <th>2</th>\n",
       "      <td>001 - HEART TRANSPLANT OR IMPLANT OF HEART ASS...</td>\n",
       "      <td>50025</td>\n",
       "      <td>UNIVERSITY OF CALIFORNIA SAN DIEGO MEDICAL CENTER</td>\n",
       "      <td>200 WEST ARBOR DRIVE</td>\n",
       "      <td>SAN DIEGO</td>\n",
       "      <td>CA</td>\n",
       "      <td>92103</td>\n",
       "      <td>CA - San Diego</td>\n",
       "      <td>21</td>\n",
       "      <td>971881.48</td>\n",
       "      <td>324050.71</td>\n",
       "      <td>294419.62</td>\n",
       "      <td>0.908560</td>\n",
       "      <td>29631.09</td>\n",
       "    </tr>\n",
       "    <tr>\n",
       "      <th>3</th>\n",
       "      <td>001 - HEART TRANSPLANT OR IMPLANT OF HEART ASS...</td>\n",
       "      <td>50100</td>\n",
       "      <td>SHARP MEMORIAL HOSPITAL</td>\n",
       "      <td>7901 FROST ST</td>\n",
       "      <td>SAN DIEGO</td>\n",
       "      <td>CA</td>\n",
       "      <td>92123</td>\n",
       "      <td>CA - San Diego</td>\n",
       "      <td>18</td>\n",
       "      <td>1517857.61</td>\n",
       "      <td>257177.33</td>\n",
       "      <td>233532.83</td>\n",
       "      <td>0.908061</td>\n",
       "      <td>23644.50</td>\n",
       "    </tr>\n",
       "    <tr>\n",
       "      <th>4</th>\n",
       "      <td>001 - HEART TRANSPLANT OR IMPLANT OF HEART ASS...</td>\n",
       "      <td>50108</td>\n",
       "      <td>SUTTER MEDICAL CENTER, SACRAMENTO</td>\n",
       "      <td>2825 CAPITOL AVENUE</td>\n",
       "      <td>SACRAMENTO</td>\n",
       "      <td>CA</td>\n",
       "      <td>95816</td>\n",
       "      <td>CA - Sacramento</td>\n",
       "      <td>17</td>\n",
       "      <td>1470341.06</td>\n",
       "      <td>346150.12</td>\n",
       "      <td>338472.00</td>\n",
       "      <td>0.977819</td>\n",
       "      <td>7678.12</td>\n",
       "    </tr>\n",
       "  </tbody>\n",
       "</table>\n",
       "</div>"
      ],
      "text/plain": [
       "                                                 DRG  Provider_ID  \\\n",
       "0  001 - HEART TRANSPLANT OR IMPLANT OF HEART ASS...        10033   \n",
       "1  001 - HEART TRANSPLANT OR IMPLANT OF HEART ASS...        30103   \n",
       "2  001 - HEART TRANSPLANT OR IMPLANT OF HEART ASS...        50025   \n",
       "3  001 - HEART TRANSPLANT OR IMPLANT OF HEART ASS...        50100   \n",
       "4  001 - HEART TRANSPLANT OR IMPLANT OF HEART ASS...        50108   \n",
       "\n",
       "                                       Provider_Name  \\\n",
       "0                     UNIVERSITY OF ALABAMA HOSPITAL   \n",
       "1                               MAYO CLINIC HOSPITAL   \n",
       "2  UNIVERSITY OF CALIFORNIA SAN DIEGO MEDICAL CENTER   \n",
       "3                            SHARP MEMORIAL HOSPITAL   \n",
       "4                  SUTTER MEDICAL CENTER, SACRAMENTO   \n",
       "\n",
       "           Provider_Address Provider_City Provider_State  Provider_Zip  \\\n",
       "0     619 SOUTH 19TH STREET    BIRMINGHAM             AL         35233   \n",
       "1  5777 EAST MAYO BOULEVARD       PHOENIX             AZ         85054   \n",
       "2      200 WEST ARBOR DRIVE     SAN DIEGO             CA         92103   \n",
       "3             7901 FROST ST     SAN DIEGO             CA         92123   \n",
       "4       2825 CAPITOL AVENUE    SACRAMENTO             CA         95816   \n",
       "\n",
       "            Market  Total_Discharges  Average_Covered_Charges  \\\n",
       "0  AL - Birmingham                11               1014783.45   \n",
       "1     AZ - Phoenix                28                382051.00   \n",
       "2   CA - San Diego                21                971881.48   \n",
       "3   CA - San Diego                18               1517857.61   \n",
       "4  CA - Sacramento                17               1470341.06   \n",
       "\n",
       "   Average_Total_Payments  Average_Medicare_Payments  \\\n",
       "0               171081.18                  141193.91   \n",
       "1               194081.39                  167511.96   \n",
       "2               324050.71                  294419.62   \n",
       "3               257177.33                  233532.83   \n",
       "4               346150.12                  338472.00   \n",
       "\n",
       "   Percentage_Covered_by_Medicare  Difference_Not_Covered  \n",
       "0                        0.825304                29887.27  \n",
       "1                        0.863102                26569.43  \n",
       "2                        0.908560                29631.09  \n",
       "3                        0.908061                23644.50  \n",
       "4                        0.977819                 7678.12  "
      ]
     },
     "execution_count": 15,
     "metadata": {},
     "output_type": "execute_result"
    }
   ],
   "source": [
    "in_p.head()"
   ]
  },
  {
   "cell_type": "code",
   "execution_count": 16,
   "metadata": {},
   "outputs": [
    {
     "name": "stdout",
     "output_type": "stream",
     "text": [
      "<class 'pandas.core.frame.DataFrame'>\n",
      "RangeIndex: 201876 entries, 0 to 201875\n",
      "Data columns (total 14 columns):\n",
      "DRG                               201876 non-null object\n",
      "Provider_ID                       201876 non-null int64\n",
      "Provider_Name                     201876 non-null object\n",
      "Provider_Address                  201876 non-null object\n",
      "Provider_City                     201876 non-null object\n",
      "Provider_State                    201876 non-null object\n",
      "Provider_Zip                      201876 non-null int64\n",
      "Market                            201876 non-null object\n",
      "Total_Discharges                  201876 non-null int64\n",
      "Average_Covered_Charges           201876 non-null float64\n",
      "Average_Total_Payments            201876 non-null float64\n",
      "Average_Medicare_Payments         201876 non-null float64\n",
      "Percentage_Covered_by_Medicare    201876 non-null float64\n",
      "Difference_Not_Covered            201876 non-null float64\n",
      "dtypes: float64(5), int64(3), object(6)\n",
      "memory usage: 21.6+ MB\n"
     ]
    }
   ],
   "source": [
    "in_p.info()"
   ]
  },
  {
   "cell_type": "code",
   "execution_count": 17,
   "metadata": {},
   "outputs": [
    {
     "data": {
      "text/plain": [
       "<matplotlib.axes._subplots.AxesSubplot at 0x16372c98b00>"
      ]
     },
     "execution_count": 17,
     "metadata": {},
     "output_type": "execute_result"
    },
    {
     "data": {
      "image/png": "[encoded data removed]",
      "text/plain": [
       "<matplotlib.figure.Figure at 0x16372d4c400>"
      ]
     },
     "metadata": {},
     "output_type": "display_data"
    }
   ],
   "source": [
    "sns.distplot(in_p['Average_Total_Payments'], bins = 40, color = 'red')"
   ]
  },
  {
   "cell_type": "code",
   "execution_count": 18,
   "metadata": {},
   "outputs": [
    {
     "data": {
      "text/plain": [
       "<matplotlib.axes._subplots.AxesSubplot at 0x16372ee6898>"
      ]
     },
     "execution_count": 18,
     "metadata": {},
     "output_type": "execute_result"
    },
    {
     "data": {
      "image/png": "[encoded data removed]",
      "text/plain": [
       "<matplotlib.figure.Figure at 0x16371d13d68>"
      ]
     },
     "metadata": {},
     "output_type": "display_data"
    }
   ],
   "source": [
    "sns.distplot(in_p['Average_Medicare_Payments'], bins = 30, color = 'black')"
   ]
  },
  {
   "cell_type": "code",
   "execution_count": 19,
   "metadata": {},
   "outputs": [
    {
     "data": {
      "text/plain": [
       "<matplotlib.axes._subplots.AxesSubplot at 0x163726d0b70>"
      ]
     },
     "execution_count": 19,
     "metadata": {},
     "output_type": "execute_result"
    },
    {
     "data": {
      "image/png": "[encoded data removed]",
      "text/plain": [
       "<matplotlib.figure.Figure at 0x163728988d0>"
      ]
     },
     "metadata": {},
     "output_type": "display_data"
    }
   ],
   "source": [
    "sns.distplot(in_p['Percentage_Covered_by_Medicare'], bins = 30, color = 'blue')"
   ]
  },
  {
   "cell_type": "code",
   "execution_count": 20,
   "metadata": {},
   "outputs": [],
   "source": [
    "# ax = sns.PairGrid(in_p[['Cost per Discharge', 'Total Cost', 'DRG Definition', 'Costs covered by Medicare']], \n",
    "#              hue='DRG Definition',\n",
    "#              size = 4)\n",
    "# ax.map_diag(plt.hist, bins = 30)\n",
    "# ax.map_offdiag(plt.scatter, s=0.5)"
   ]
  },
  {
   "cell_type": "code",
   "execution_count": 21,
   "metadata": {},
   "outputs": [],
   "source": [
    "#in_p.to_csv('../data/inpatient_2015_1.csv', sep='\\t', encoding='utf-8')"
   ]
  },
  {
   "cell_type": "code",
   "execution_count": 22,
   "metadata": {},
   "outputs": [
    {
     "name": "stdout",
     "output_type": "stream",
     "text": [
      "3111\n"
     ]
    }
   ],
   "source": [
    "#May need to go to actual address level beacuse their ar multiple providers in a few zips. \n",
    "print(len(in_p['Provider_Name'].unique()))"
   ]
  },
  {
   "cell_type": "code",
   "execution_count": 23,
   "metadata": {},
   "outputs": [
    {
     "name": "stdout",
     "output_type": "stream",
     "text": [
      "2941\n"
     ]
    }
   ],
   "source": [
    "print(len(in_p['Provider_Zip'].unique()))"
   ]
  },
  {
   "cell_type": "markdown",
   "metadata": {},
   "source": [
    "#### _Separating Hospital Types_"
   ]
  },
  {
   "cell_type": "code",
   "execution_count": 24,
   "metadata": {},
   "outputs": [],
   "source": [
    "#Can I clarify the difference between acute care and critical access?\n",
    "gen = pd.read_csv('../data/data/Hospital_General_Information.csv')"
   ]
  },
  {
   "cell_type": "code",
   "execution_count": 25,
   "metadata": {},
   "outputs": [
    {
     "data": {
      "text/html": [
       "<div>\n",
       "<style>\n",
       "    .dataframe thead tr:only-child th {\n",
       "        text-align: right;\n",
       "    }\n",
       "\n",
       "    .dataframe thead th {\n",
       "        text-align: left;\n",
       "    }\n",
       "\n",
       "    .dataframe tbody tr th {\n",
       "        vertical-align: top;\n",
       "    }\n",
       "</style>\n",
       "<table border=\"1\" class=\"dataframe\">\n",
       "  <thead>\n",
       "    <tr style=\"text-align: right;\">\n",
       "      <th></th>\n",
       "      <th>Provider ID</th>\n",
       "      <th>Hospital Name</th>\n",
       "      <th>Address</th>\n",
       "      <th>City</th>\n",
       "      <th>State</th>\n",
       "      <th>ZIP Code</th>\n",
       "      <th>County Name</th>\n",
       "      <th>Phone Number</th>\n",
       "      <th>Hospital Type</th>\n",
       "      <th>Hospital Ownership</th>\n",
       "      <th>...</th>\n",
       "      <th>Readmission national comparison footnote</th>\n",
       "      <th>Patient experience national comparison</th>\n",
       "      <th>Patient experience national comparison footnote</th>\n",
       "      <th>Effectiveness of care national comparison</th>\n",
       "      <th>Effectiveness of care national comparison footnote</th>\n",
       "      <th>Timeliness of care national comparison</th>\n",
       "      <th>Timeliness of care national comparison footnote</th>\n",
       "      <th>Efficient use of medical imaging national comparison</th>\n",
       "      <th>Efficient use of medical imaging national comparison footnote</th>\n",
       "      <th>Location</th>\n",
       "    </tr>\n",
       "  </thead>\n",
       "  <tbody>\n",
       "    <tr>\n",
       "      <th>0</th>\n",
       "      <td>10005</td>\n",
       "      <td>MARSHALL MEDICAL CENTER SOUTH</td>\n",
       "      <td>2505 U S HIGHWAY 431 NORTH</td>\n",
       "      <td>BOAZ</td>\n",
       "      <td>AL</td>\n",
       "      <td>35957</td>\n",
       "      <td>MARSHALL</td>\n",
       "      <td>2565938310</td>\n",
       "      <td>Acute Care Hospitals</td>\n",
       "      <td>Government - Hospital District or Authority</td>\n",
       "      <td>...</td>\n",
       "      <td>NaN</td>\n",
       "      <td>Same as the national average</td>\n",
       "      <td>NaN</td>\n",
       "      <td>Same as the national average</td>\n",
       "      <td>NaN</td>\n",
       "      <td>Above the national average</td>\n",
       "      <td>NaN</td>\n",
       "      <td>Below the national average</td>\n",
       "      <td>NaN</td>\n",
       "      <td>2505 U S HIGHWAY 431 NORTH\\nBOAZ, AL 35957\\n</td>\n",
       "    </tr>\n",
       "    <tr>\n",
       "      <th>1</th>\n",
       "      <td>10012</td>\n",
       "      <td>DEKALB REGIONAL MEDICAL CENTER</td>\n",
       "      <td>200 MED CENTER DRIVE</td>\n",
       "      <td>FORT PAYNE</td>\n",
       "      <td>AL</td>\n",
       "      <td>35968</td>\n",
       "      <td>DE KALB</td>\n",
       "      <td>2568453150</td>\n",
       "      <td>Acute Care Hospitals</td>\n",
       "      <td>Proprietary</td>\n",
       "      <td>...</td>\n",
       "      <td>NaN</td>\n",
       "      <td>Below the national average</td>\n",
       "      <td>NaN</td>\n",
       "      <td>Same as the national average</td>\n",
       "      <td>NaN</td>\n",
       "      <td>Above the national average</td>\n",
       "      <td>NaN</td>\n",
       "      <td>Same as the national average</td>\n",
       "      <td>NaN</td>\n",
       "      <td>200 MED CENTER DRIVE\\nFORT PAYNE, AL 35968\\n</td>\n",
       "    </tr>\n",
       "    <tr>\n",
       "      <th>2</th>\n",
       "      <td>10131</td>\n",
       "      <td>CRESTWOOD MEDICAL CENTER</td>\n",
       "      <td>ONE HOSPITAL DR SE</td>\n",
       "      <td>HUNTSVILLE</td>\n",
       "      <td>AL</td>\n",
       "      <td>35801</td>\n",
       "      <td>MADISON</td>\n",
       "      <td>2568823100</td>\n",
       "      <td>Acute Care Hospitals</td>\n",
       "      <td>Proprietary</td>\n",
       "      <td>...</td>\n",
       "      <td>NaN</td>\n",
       "      <td>Below the national average</td>\n",
       "      <td>NaN</td>\n",
       "      <td>Same as the national average</td>\n",
       "      <td>NaN</td>\n",
       "      <td>Below the national average</td>\n",
       "      <td>NaN</td>\n",
       "      <td>Same as the national average</td>\n",
       "      <td>NaN</td>\n",
       "      <td>ONE HOSPITAL DR SE\\nHUNTSVILLE, AL 35801\\n</td>\n",
       "    </tr>\n",
       "    <tr>\n",
       "      <th>3</th>\n",
       "      <td>11304</td>\n",
       "      <td>CHOCTAW GENERAL HOSPITAL</td>\n",
       "      <td>401 VANITY FAIR LANE, PO BOX 618</td>\n",
       "      <td>BUTLER</td>\n",
       "      <td>AL</td>\n",
       "      <td>36904</td>\n",
       "      <td>CHOCTAW</td>\n",
       "      <td>2054599100</td>\n",
       "      <td>Critical Access Hospitals</td>\n",
       "      <td>Voluntary non-profit - Private</td>\n",
       "      <td>...</td>\n",
       "      <td>Results are not available for this reporting p...</td>\n",
       "      <td>Not Available</td>\n",
       "      <td>There are too few measures or measure groups r...</td>\n",
       "      <td>Same as the national average</td>\n",
       "      <td>NaN</td>\n",
       "      <td>Same as the national average</td>\n",
       "      <td>NaN</td>\n",
       "      <td>Not Available</td>\n",
       "      <td>Results are not available for this reporting p...</td>\n",
       "      <td>401 VANITY FAIR LANE, PO BOX 618\\nBUTLER, AL 3...</td>\n",
       "    </tr>\n",
       "    <tr>\n",
       "      <th>4</th>\n",
       "      <td>20018</td>\n",
       "      <td>YUKON KUSKOKWIM DELTA REG HOSPITAL</td>\n",
       "      <td>PO BOX 287</td>\n",
       "      <td>BETHEL</td>\n",
       "      <td>AK</td>\n",
       "      <td>99559</td>\n",
       "      <td>BETHEL</td>\n",
       "      <td>9075436300</td>\n",
       "      <td>Acute Care Hospitals</td>\n",
       "      <td>Tribal</td>\n",
       "      <td>...</td>\n",
       "      <td>NaN</td>\n",
       "      <td>Below the national average</td>\n",
       "      <td>NaN</td>\n",
       "      <td>Same as the national average</td>\n",
       "      <td>NaN</td>\n",
       "      <td>Not Available</td>\n",
       "      <td>Results are not available for this reporting p...</td>\n",
       "      <td>Not Available</td>\n",
       "      <td>There are too few measures or measure groups r...</td>\n",
       "      <td>PO BOX 287\\nBETHEL, AK 99559\\n</td>\n",
       "    </tr>\n",
       "  </tbody>\n",
       "</table>\n",
       "<p>5 rows × 29 columns</p>\n",
       "</div>"
      ],
      "text/plain": [
       "   Provider ID                       Hospital Name  \\\n",
       "0        10005       MARSHALL MEDICAL CENTER SOUTH   \n",
       "1        10012      DEKALB REGIONAL MEDICAL CENTER   \n",
       "2        10131            CRESTWOOD MEDICAL CENTER   \n",
       "3        11304            CHOCTAW GENERAL HOSPITAL   \n",
       "4        20018  YUKON KUSKOKWIM DELTA REG HOSPITAL   \n",
       "\n",
       "                            Address        City State  ZIP Code County Name  \\\n",
       "0        2505 U S HIGHWAY 431 NORTH        BOAZ    AL     35957    MARSHALL   \n",
       "1              200 MED CENTER DRIVE  FORT PAYNE    AL     35968     DE KALB   \n",
       "2                ONE HOSPITAL DR SE  HUNTSVILLE    AL     35801     MADISON   \n",
       "3  401 VANITY FAIR LANE, PO BOX 618      BUTLER    AL     36904     CHOCTAW   \n",
       "4                        PO BOX 287      BETHEL    AK     99559      BETHEL   \n",
       "\n",
       "   Phone Number              Hospital Type  \\\n",
       "0    2565938310       Acute Care Hospitals   \n",
       "1    2568453150       Acute Care Hospitals   \n",
       "2    2568823100       Acute Care Hospitals   \n",
       "3    2054599100  Critical Access Hospitals   \n",
       "4    9075436300       Acute Care Hospitals   \n",
       "\n",
       "                            Hospital Ownership  \\\n",
       "0  Government - Hospital District or Authority   \n",
       "1                                  Proprietary   \n",
       "2                                  Proprietary   \n",
       "3               Voluntary non-profit - Private   \n",
       "4                                       Tribal   \n",
       "\n",
       "                         ...                          \\\n",
       "0                        ...                           \n",
       "1                        ...                           \n",
       "2                        ...                           \n",
       "3                        ...                           \n",
       "4                        ...                           \n",
       "\n",
       "            Readmission national comparison footnote  \\\n",
       "0                                                NaN   \n",
       "1                                                NaN   \n",
       "2                                                NaN   \n",
       "3  Results are not available for this reporting p...   \n",
       "4                                                NaN   \n",
       "\n",
       "  Patient experience national comparison  \\\n",
       "0           Same as the national average   \n",
       "1             Below the national average   \n",
       "2             Below the national average   \n",
       "3                          Not Available   \n",
       "4             Below the national average   \n",
       "\n",
       "     Patient experience national comparison footnote  \\\n",
       "0                                                NaN   \n",
       "1                                                NaN   \n",
       "2                                                NaN   \n",
       "3  There are too few measures or measure groups r...   \n",
       "4                                                NaN   \n",
       "\n",
       "  Effectiveness of care national comparison  \\\n",
       "0              Same as the national average   \n",
       "1              Same as the national average   \n",
       "2              Same as the national average   \n",
       "3              Same as the national average   \n",
       "4              Same as the national average   \n",
       "\n",
       "  Effectiveness of care national comparison footnote  \\\n",
       "0                                                NaN   \n",
       "1                                                NaN   \n",
       "2                                                NaN   \n",
       "3                                                NaN   \n",
       "4                                                NaN   \n",
       "\n",
       "  Timeliness of care national comparison  \\\n",
       "0             Above the national average   \n",
       "1             Above the national average   \n",
       "2             Below the national average   \n",
       "3           Same as the national average   \n",
       "4                          Not Available   \n",
       "\n",
       "     Timeliness of care national comparison footnote  \\\n",
       "0                                                NaN   \n",
       "1                                                NaN   \n",
       "2                                                NaN   \n",
       "3                                                NaN   \n",
       "4  Results are not available for this reporting p...   \n",
       "\n",
       "  Efficient use of medical imaging national comparison  \\\n",
       "0                         Below the national average     \n",
       "1                       Same as the national average     \n",
       "2                       Same as the national average     \n",
       "3                                      Not Available     \n",
       "4                                      Not Available     \n",
       "\n",
       "  Efficient use of medical imaging national comparison footnote  \\\n",
       "0                                                NaN              \n",
       "1                                                NaN              \n",
       "2                                                NaN              \n",
       "3  Results are not available for this reporting p...              \n",
       "4  There are too few measures or measure groups r...              \n",
       "\n",
       "                                            Location  \n",
       "0       2505 U S HIGHWAY 431 NORTH\\nBOAZ, AL 35957\\n  \n",
       "1       200 MED CENTER DRIVE\\nFORT PAYNE, AL 35968\\n  \n",
       "2         ONE HOSPITAL DR SE\\nHUNTSVILLE, AL 35801\\n  \n",
       "3  401 VANITY FAIR LANE, PO BOX 618\\nBUTLER, AL 3...  \n",
       "4                     PO BOX 287\\nBETHEL, AK 99559\\n  \n",
       "\n",
       "[5 rows x 29 columns]"
      ]
     },
     "execution_count": 25,
     "metadata": {},
     "output_type": "execute_result"
    }
   ],
   "source": [
    "gen.head()"
   ]
  },
  {
   "cell_type": "code",
   "execution_count": 26,
   "metadata": {},
   "outputs": [
    {
     "name": "stdout",
     "output_type": "stream",
     "text": [
      "<class 'pandas.core.frame.DataFrame'>\n",
      "RangeIndex: 4798 entries, 0 to 4797\n",
      "Data columns (total 29 columns):\n",
      "Provider ID                                                      4798 non-null int64\n",
      "Hospital Name                                                    4798 non-null object\n",
      "Address                                                          4798 non-null object\n",
      "City                                                             4798 non-null object\n",
      "State                                                            4798 non-null object\n",
      "ZIP Code                                                         4798 non-null int64\n",
      "County Name                                                      4783 non-null object\n",
      "Phone Number                                                     4798 non-null int64\n",
      "Hospital Type                                                    4798 non-null object\n",
      "Hospital Ownership                                               4798 non-null object\n",
      "Emergency Services                                               4798 non-null bool\n",
      "Meets criteria for meaningful use of EHRs                        4644 non-null object\n",
      "Hospital overall rating                                          4798 non-null object\n",
      "Hospital overall rating footnote                                 1260 non-null object\n",
      "Mortality national comparison                                    4798 non-null object\n",
      "Mortality national comparison footnote                           1361 non-null object\n",
      "Safety of care national comparison                               4798 non-null object\n",
      "Safety of care national comparison footnote                      2158 non-null object\n",
      "Readmission national comparison                                  4798 non-null object\n",
      "Readmission national comparison footnote                         913 non-null object\n",
      "Patient experience national comparison                           4798 non-null object\n",
      "Patient experience national comparison footnote                  1315 non-null object\n",
      "Effectiveness of care national comparison                        4798 non-null object\n",
      "Effectiveness of care national comparison footnote               1066 non-null object\n",
      "Timeliness of care national comparison                           4798 non-null object\n",
      "Timeliness of care national comparison footnote                  1125 non-null object\n",
      "Efficient use of medical imaging national comparison             4798 non-null object\n",
      "Efficient use of medical imaging national comparison footnote    1879 non-null object\n",
      "Location                                                         4798 non-null object\n",
      "dtypes: bool(1), int64(3), object(25)\n",
      "memory usage: 1.0+ MB\n"
     ]
    }
   ],
   "source": [
    "gen.info()"
   ]
  },
  {
   "cell_type": "code",
   "execution_count": 27,
   "metadata": {},
   "outputs": [
    {
     "name": "stdout",
     "output_type": "stream",
     "text": [
      "4613\n"
     ]
    }
   ],
   "source": [
    "print(len(gen['Hospital Name'].unique()))"
   ]
  },
  {
   "cell_type": "code",
   "execution_count": 28,
   "metadata": {},
   "outputs": [
    {
     "data": {
      "text/plain": [
       "Acute Care Hospitals         3355\n",
       "Critical Access Hospitals    1345\n",
       "Childrens                      98\n",
       "Name: Hospital Type, dtype: int64"
      ]
     },
     "execution_count": 28,
     "metadata": {},
     "output_type": "execute_result"
    }
   ],
   "source": [
    "#How many of each type? \n",
    "#Acute Care - larger, teaching facilities with a traditionally lower-income patient population\n",
    "#Critical access - smaller, more specialized facilities that serve a tradionally higher-income patient population\n",
    "gen['Hospital Type'].value_counts()"
   ]
  },
  {
   "cell_type": "code",
   "execution_count": 29,
   "metadata": {},
   "outputs": [],
   "source": [
    "#Isolate hospital type with provider ID\n",
    "id_type = gen[['Provider ID', 'Hospital Type']]"
   ]
  },
  {
   "cell_type": "code",
   "execution_count": 30,
   "metadata": {},
   "outputs": [
    {
     "data": {
      "text/html": [
       "<div>\n",
       "<style>\n",
       "    .dataframe thead tr:only-child th {\n",
       "        text-align: right;\n",
       "    }\n",
       "\n",
       "    .dataframe thead th {\n",
       "        text-align: left;\n",
       "    }\n",
       "\n",
       "    .dataframe tbody tr th {\n",
       "        vertical-align: top;\n",
       "    }\n",
       "</style>\n",
       "<table border=\"1\" class=\"dataframe\">\n",
       "  <thead>\n",
       "    <tr style=\"text-align: right;\">\n",
       "      <th></th>\n",
       "      <th>Provider ID</th>\n",
       "      <th>Hospital Type</th>\n",
       "    </tr>\n",
       "  </thead>\n",
       "  <tbody>\n",
       "    <tr>\n",
       "      <th>0</th>\n",
       "      <td>10005</td>\n",
       "      <td>Acute Care Hospitals</td>\n",
       "    </tr>\n",
       "    <tr>\n",
       "      <th>1</th>\n",
       "      <td>10012</td>\n",
       "      <td>Acute Care Hospitals</td>\n",
       "    </tr>\n",
       "    <tr>\n",
       "      <th>2</th>\n",
       "      <td>10131</td>\n",
       "      <td>Acute Care Hospitals</td>\n",
       "    </tr>\n",
       "    <tr>\n",
       "      <th>3</th>\n",
       "      <td>11304</td>\n",
       "      <td>Critical Access Hospitals</td>\n",
       "    </tr>\n",
       "    <tr>\n",
       "      <th>4</th>\n",
       "      <td>20018</td>\n",
       "      <td>Acute Care Hospitals</td>\n",
       "    </tr>\n",
       "  </tbody>\n",
       "</table>\n",
       "</div>"
      ],
      "text/plain": [
       "   Provider ID              Hospital Type\n",
       "0        10005       Acute Care Hospitals\n",
       "1        10012       Acute Care Hospitals\n",
       "2        10131       Acute Care Hospitals\n",
       "3        11304  Critical Access Hospitals\n",
       "4        20018       Acute Care Hospitals"
      ]
     },
     "execution_count": 30,
     "metadata": {},
     "output_type": "execute_result"
    }
   ],
   "source": [
    "id_type.head(5)"
   ]
  },
  {
   "cell_type": "code",
   "execution_count": 31,
   "metadata": {},
   "outputs": [],
   "source": [
    "id_type.columns.values[0] = 'Provider_ID'"
   ]
  },
  {
   "cell_type": "code",
   "execution_count": 32,
   "metadata": {},
   "outputs": [],
   "source": [
    "ach = id_type.loc[id_type['Hospital Type'] == 'Acute Care Hospitals']\n",
    "cah = id_type.loc[id_type['Hospital Type'] == 'Critical Access Hospitals']\n",
    "child = id_type.loc[id_type['Hospital Type'] == 'Childrens']"
   ]
  },
  {
   "cell_type": "code",
   "execution_count": 33,
   "metadata": {},
   "outputs": [],
   "source": [
    "#Exporting to R \n",
    "#Using separate hospital type input files to generate ratings \n",
    "#ach.to_csv('../data/data/ach.csv', encoding='utf-8')\n",
    "#cah.to_csv('../data/data/cah.csv', encoding='utf-8')"
   ]
  },
  {
   "cell_type": "code",
   "execution_count": 34,
   "metadata": {},
   "outputs": [
    {
     "data": {
      "text/plain": [
       "Index(['DRG', 'Provider_ID', 'Provider_Name', 'Provider_Address',\n",
       "       'Provider_City', 'Provider_State', 'Provider_Zip', 'Market',\n",
       "       'Total_Discharges', 'Average_Covered_Charges', 'Average_Total_Payments',\n",
       "       'Average_Medicare_Payments', 'Percentage_Covered_by_Medicare',\n",
       "       'Difference_Not_Covered'],\n",
       "      dtype='object')"
      ]
     },
     "execution_count": 34,
     "metadata": {},
     "output_type": "execute_result"
    }
   ],
   "source": [
    "in_p.columns"
   ]
  },
  {
   "cell_type": "code",
   "execution_count": 35,
   "metadata": {},
   "outputs": [
    {
     "name": "stdout",
     "output_type": "stream",
     "text": [
      "3231\n"
     ]
    }
   ],
   "source": [
    "print(len(in_p['Provider_ID'].unique()))"
   ]
  },
  {
   "cell_type": "markdown",
   "metadata": {},
   "source": [
    "#### _Isolating Oct 2016 CMS Star Ratings for the hospitals we have cost information for_"
   ]
  },
  {
   "cell_type": "code",
   "execution_count": 67,
   "metadata": {},
   "outputs": [],
   "source": [
    "gen_2016 = pd.read_csv('../data/data/Hospital_General_Information_Oct_2016.csv')"
   ]
  },
  {
   "cell_type": "code",
   "execution_count": 73,
   "metadata": {},
   "outputs": [],
   "source": [
    "cms_2016_ratings = gen_2016[['Provider ID', 'Hospital Type', 'Hospital overall rating']]"
   ]
  },
  {
   "cell_type": "code",
   "execution_count": 75,
   "metadata": {},
   "outputs": [],
   "source": [
    "cms_2016_ratings.columns = ['Provider_ID', 'Hospital_Type', 'CMS_Rating']"
   ]
  },
  {
   "cell_type": "code",
   "execution_count": 79,
   "metadata": {},
   "outputs": [
    {
     "data": {
      "text/html": [
       "<div>\n",
       "<style>\n",
       "    .dataframe thead tr:only-child th {\n",
       "        text-align: right;\n",
       "    }\n",
       "\n",
       "    .dataframe thead th {\n",
       "        text-align: left;\n",
       "    }\n",
       "\n",
       "    .dataframe tbody tr th {\n",
       "        vertical-align: top;\n",
       "    }\n",
       "</style>\n",
       "<table border=\"1\" class=\"dataframe\">\n",
       "  <thead>\n",
       "    <tr style=\"text-align: right;\">\n",
       "      <th></th>\n",
       "      <th>Provider_ID</th>\n",
       "      <th>Hospital_Type</th>\n",
       "      <th>CMS_Rating</th>\n",
       "    </tr>\n",
       "  </thead>\n",
       "  <tbody>\n",
       "    <tr>\n",
       "      <th>0</th>\n",
       "      <td>10001</td>\n",
       "      <td>Acute Care Hospitals</td>\n",
       "      <td>3</td>\n",
       "    </tr>\n",
       "    <tr>\n",
       "      <th>1</th>\n",
       "      <td>10005</td>\n",
       "      <td>Acute Care Hospitals</td>\n",
       "      <td>3</td>\n",
       "    </tr>\n",
       "    <tr>\n",
       "      <th>2</th>\n",
       "      <td>10006</td>\n",
       "      <td>Acute Care Hospitals</td>\n",
       "      <td>2</td>\n",
       "    </tr>\n",
       "    <tr>\n",
       "      <th>3</th>\n",
       "      <td>10007</td>\n",
       "      <td>Acute Care Hospitals</td>\n",
       "      <td>3</td>\n",
       "    </tr>\n",
       "    <tr>\n",
       "      <th>4</th>\n",
       "      <td>10008</td>\n",
       "      <td>Acute Care Hospitals</td>\n",
       "      <td>3</td>\n",
       "    </tr>\n",
       "  </tbody>\n",
       "</table>\n",
       "</div>"
      ],
      "text/plain": [
       "   Provider_ID         Hospital_Type CMS_Rating\n",
       "0        10001  Acute Care Hospitals          3\n",
       "1        10005  Acute Care Hospitals          3\n",
       "2        10006  Acute Care Hospitals          2\n",
       "3        10007  Acute Care Hospitals          3\n",
       "4        10008  Acute Care Hospitals          3"
      ]
     },
     "execution_count": 79,
     "metadata": {},
     "output_type": "execute_result"
    }
   ],
   "source": [
    "cms_2016_ratings.head()"
   ]
  },
  {
   "cell_type": "code",
   "execution_count": 86,
   "metadata": {},
   "outputs": [
    {
     "name": "stdout",
     "output_type": "stream",
     "text": [
      "<class 'pandas.core.frame.DataFrame'>\n",
      "RangeIndex: 4818 entries, 0 to 4817\n",
      "Data columns (total 3 columns):\n",
      "Provider_ID      4818 non-null int64\n",
      "Hospital_Type    4818 non-null object\n",
      "CMS_Rating       4818 non-null object\n",
      "dtypes: int64(1), object(2)\n",
      "memory usage: 113.0+ KB\n"
     ]
    }
   ],
   "source": [
    "cms_2016_ratings.info()"
   ]
  },
  {
   "cell_type": "markdown",
   "metadata": {},
   "source": [
    "#### _Combining CMS and suggeted ratings_"
   ]
  },
  {
   "cell_type": "code",
   "execution_count": 78,
   "metadata": {},
   "outputs": [],
   "source": [
    "#Adding in suggested custom ratings from R\n",
    "suggested_ratings = pd.read_csv('../data/R_ratings/suggested_star_ratings.csv')"
   ]
  },
  {
   "cell_type": "code",
   "execution_count": 80,
   "metadata": {},
   "outputs": [],
   "source": [
    "suggested_ratings.columns = ['Provider_ID', 'Suggested_Rating']"
   ]
  },
  {
   "cell_type": "code",
   "execution_count": 81,
   "metadata": {},
   "outputs": [],
   "source": [
    "ratings = pd.merge(cms_2016_ratings, suggested_ratings, how='inner', on=['Provider_ID'])"
   ]
  },
  {
   "cell_type": "code",
   "execution_count": 89,
   "metadata": {},
   "outputs": [
    {
     "name": "stdout",
     "output_type": "stream",
     "text": [
      "<class 'pandas.core.frame.DataFrame'>\n",
      "Int64Index: 3606 entries, 0 to 3605\n",
      "Data columns (total 4 columns):\n",
      "Provider_ID         3606 non-null int64\n",
      "Hospital_Type       3606 non-null object\n",
      "CMS_Rating          3606 non-null object\n",
      "Suggested_Rating    3606 non-null int64\n",
      "dtypes: int64(2), object(2)\n",
      "memory usage: 140.9+ KB\n"
     ]
    }
   ],
   "source": [
    "ratings.info()"
   ]
  },
  {
   "cell_type": "code",
   "execution_count": 83,
   "metadata": {},
   "outputs": [
    {
     "data": {
      "text/html": [
       "<div>\n",
       "<style>\n",
       "    .dataframe thead tr:only-child th {\n",
       "        text-align: right;\n",
       "    }\n",
       "\n",
       "    .dataframe thead th {\n",
       "        text-align: left;\n",
       "    }\n",
       "\n",
       "    .dataframe tbody tr th {\n",
       "        vertical-align: top;\n",
       "    }\n",
       "</style>\n",
       "<table border=\"1\" class=\"dataframe\">\n",
       "  <thead>\n",
       "    <tr style=\"text-align: right;\">\n",
       "      <th></th>\n",
       "      <th>Provider_ID</th>\n",
       "      <th>Hospital_Type</th>\n",
       "      <th>CMS_Rating</th>\n",
       "      <th>Suggested_Rating</th>\n",
       "    </tr>\n",
       "  </thead>\n",
       "  <tbody>\n",
       "    <tr>\n",
       "      <th>0</th>\n",
       "      <td>10001</td>\n",
       "      <td>Acute Care Hospitals</td>\n",
       "      <td>3</td>\n",
       "      <td>2</td>\n",
       "    </tr>\n",
       "    <tr>\n",
       "      <th>1</th>\n",
       "      <td>10005</td>\n",
       "      <td>Acute Care Hospitals</td>\n",
       "      <td>3</td>\n",
       "      <td>2</td>\n",
       "    </tr>\n",
       "    <tr>\n",
       "      <th>2</th>\n",
       "      <td>10006</td>\n",
       "      <td>Acute Care Hospitals</td>\n",
       "      <td>2</td>\n",
       "      <td>2</td>\n",
       "    </tr>\n",
       "    <tr>\n",
       "      <th>3</th>\n",
       "      <td>10007</td>\n",
       "      <td>Acute Care Hospitals</td>\n",
       "      <td>3</td>\n",
       "      <td>3</td>\n",
       "    </tr>\n",
       "    <tr>\n",
       "      <th>4</th>\n",
       "      <td>10008</td>\n",
       "      <td>Acute Care Hospitals</td>\n",
       "      <td>3</td>\n",
       "      <td>3</td>\n",
       "    </tr>\n",
       "  </tbody>\n",
       "</table>\n",
       "</div>"
      ],
      "text/plain": [
       "   Provider_ID         Hospital_Type CMS_Rating  Suggested_Rating\n",
       "0        10001  Acute Care Hospitals          3                 2\n",
       "1        10005  Acute Care Hospitals          3                 2\n",
       "2        10006  Acute Care Hospitals          2                 2\n",
       "3        10007  Acute Care Hospitals          3                 3\n",
       "4        10008  Acute Care Hospitals          3                 3"
      ]
     },
     "execution_count": 83,
     "metadata": {},
     "output_type": "execute_result"
    }
   ],
   "source": [
    "ratings.head()"
   ]
  },
  {
   "cell_type": "code",
   "execution_count": 88,
   "metadata": {},
   "outputs": [
    {
     "name": "stdout",
     "output_type": "stream",
     "text": [
      "Acute Care Hospitals         3026\n",
      "Critical Access Hospitals     580\n",
      "Name: Hospital_Type, dtype: int64\n"
     ]
    }
   ],
   "source": [
    "print(ratings.Hospital_Type.value_counts())"
   ]
  },
  {
   "cell_type": "code",
   "execution_count": 85,
   "metadata": {},
   "outputs": [
    {
     "name": "stdout",
     "output_type": "stream",
     "text": [
      "3    1745\n",
      "4     953\n",
      "2     682\n",
      "1     115\n",
      "5     111\n",
      "Name: CMS_Rating, dtype: int64\n",
      "3    1190\n",
      "4    1037\n",
      "2     757\n",
      "5     331\n",
      "1     291\n",
      "Name: Suggested_Rating, dtype: int64\n"
     ]
    }
   ],
   "source": [
    "print(ratings.CMS_Rating.value_counts())\n",
    "print(ratings.Suggested_Rating.value_counts())"
   ]
  },
  {
   "cell_type": "code",
   "execution_count": 93,
   "metadata": {},
   "outputs": [],
   "source": [
    "#ratings.to_csv('../data/R_ratings/CMS_vs_Suggested.csv', sep='\\t', encoding='utf-8')"
   ]
  },
  {
   "cell_type": "markdown",
   "metadata": {},
   "source": [
    "#### _Combining star ratings with cost info_"
   ]
  },
  {
   "cell_type": "code",
   "execution_count": 90,
   "metadata": {},
   "outputs": [],
   "source": [
    "merged = pd.merge(in_p, ratings, how='left', on=['Provider_ID'])"
   ]
  },
  {
   "cell_type": "code",
   "execution_count": 91,
   "metadata": {},
   "outputs": [
    {
     "name": "stdout",
     "output_type": "stream",
     "text": [
      "<class 'pandas.core.frame.DataFrame'>\n",
      "Int64Index: 201876 entries, 0 to 201875\n",
      "Data columns (total 17 columns):\n",
      "DRG                               201876 non-null object\n",
      "Provider_ID                       201876 non-null int64\n",
      "Provider_Name                     201876 non-null object\n",
      "Provider_Address                  201876 non-null object\n",
      "Provider_City                     201876 non-null object\n",
      "Provider_State                    201876 non-null object\n",
      "Provider_Zip                      201876 non-null int64\n",
      "Market                            201876 non-null object\n",
      "Total_Discharges                  201876 non-null int64\n",
      "Average_Covered_Charges           201876 non-null float64\n",
      "Average_Total_Payments            201876 non-null float64\n",
      "Average_Medicare_Payments         201876 non-null float64\n",
      "Percentage_Covered_by_Medicare    201876 non-null float64\n",
      "Difference_Not_Covered            201876 non-null float64\n",
      "Hospital_Type                     195713 non-null object\n",
      "CMS_Rating                        195713 non-null object\n",
      "Suggested_Rating                  195713 non-null float64\n",
      "dtypes: float64(6), int64(3), object(8)\n",
      "memory usage: 27.7+ MB\n"
     ]
    }
   ],
   "source": [
    "merged.info()"
   ]
  },
  {
   "cell_type": "code",
   "execution_count": 95,
   "metadata": {},
   "outputs": [],
   "source": [
    "merged.to_csv('../data/data/2015_Ratings.csv', sep='\\t', encoding='utf-8')"
   ]
  }
 ],
 "metadata": {
  "kernelspec": {
   "display_name": "Python 3",
   "language": "python",
   "name": "python3"
  },
  "language_info": {
   "codemirror_mode": {
    "name": "ipython",
    "version": 3
   },
   "file_extension": ".py",
   "mimetype": "text/x-python",
   "name": "python",
   "nbconvert_exporter": "python",
   "pygments_lexer": "ipython3",
   "version": "3.6.2"
  }
 },
 "nbformat": 4,
 "nbformat_minor": 2
}
